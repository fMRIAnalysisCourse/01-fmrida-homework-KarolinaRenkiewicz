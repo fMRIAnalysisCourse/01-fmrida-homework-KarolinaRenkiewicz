{
 "cells": [
  {
   "cell_type": "markdown",
   "metadata": {},
   "source": [
    "# Fundamentals of fMRI data analysis \n",
    "## Homework for courses: \n",
    "- #0 Introduction\n",
    "- #1 Reproducible neuroimaging"
   ]
  },
  {
   "cell_type": "markdown",
   "metadata": {},
   "source": [
    "In this assignment, your task is to answer a few questions related to neuroimaging. \n",
    "\n",
    "You can choose to answer in Polish or English (it will not affect your grade).\n",
    "\n",
    "Write answers in your **own words**, as you would like to explain it to a friend (do not copy from Wikipedia!). \n",
    "\n",
    "Use Markdown formatting options as much as possible! ([cheet sheet](https://guides.github.com/features/mastering-markdown/))\n",
    "\n",
    "\n",
    "\n",
    "\n",
    "--------------------\n"
   ]
  },
  {
   "cell_type": "markdown",
   "metadata": {},
   "source": [
    "**1. Explain in your *own words* how does fMRI work (2-3 sentences).**"
   ]
  },
  {
   "cell_type": "markdown",
   "metadata": {},
   "source": [
    "# Funkcjonalny rezonans magnetyczny (fMRI)\n",
    "\n",
    " Funkcjonuje on w oparciu o silne _pole magnetyczne_ wzmacniane przez cewki (od **1 Tesli** do nawet **9 Tesli**), dzięki czemu można uzyskać bardziej szczegółowy obraz, oraz _fale radiowe_, które wpływają (proces zachodzi po zakończeniu oddziaływania fal radiowych na tkankę mózgową) na rotowanie się protonów w cząsteczkach wodoru, co w połączeniu z aktywnością ***hemodynamiczną mózgu (sygnał BOLD)*** pozwala uchwycić zmienność w funkcjonalności tkanki mózgowej. Taka procedura może być przeprowadzona zarówno w _stanie spoczynkowym_ (rs -fMRI), jak i związana z wykonywaniem konkretnych zadań.\n",
    "```"
   ]
  },
  {
   "cell_type": "markdown",
   "metadata": {},
   "source": [
    "**2. Explain in your *own words* the term *BOLD signal* (2-3 sentences).**"
   ]
  },
  {
   "cell_type": "markdown",
   "metadata": {},
   "source": [
    "<!-- Czynność przepływu krwi do miejc wymagających większego zapotrzebowania w tlen nazywamy reakcją hemodynamiczną mózgu  -->\n",
    "## Sygnał BOLD ##\n",
    " Jest to typ sygnału stanowiącego ***proporcję _krwi utlenowanej_ do _nieutlenowanej_*** (co wynika z większego zapotrzebowania w tlen obszarów mózgu poddanych większemu wysiłkowi poznawczemu). **fMRI** pozwala śledzić przepływ krwi w obszary większego zapotrzebowania (a także wykrywać trudności w dopływie krwi do miejsc uszkodzonych np. w wyniku udaru krwotocznego).\n"
   ]
  },
  {
   "cell_type": "markdown",
   "metadata": {},
   "source": [
    "**3. Make a table (two columns) with advantages and disadvantages of fMRI.**"
   ]
  },
  {
   "cell_type": "markdown",
   "metadata": {},
   "source": [
    "| fMRI | Zalety użytkowania|\n",
    "| --- | --- |\n",
    "| sygnał BOLD | Możliwość śledzenia reakcji fizjologicznej mózgu  |\n",
    "| choroby | Możliwość wykrywania zmian chorobowych w nieprawidłowej pracy mózgu w chorobach neurologicznych czy psychicznych |\n",
    "| zadania poznawcze| możliwość obserwowania pracy mózgu podczas wykonywania określonych zadań poznawczych lub w czasie np. \"wyzwalania\" emocji.|\n",
    "| rs - fMRI| Możliwość śledzenia spoczynkowej pracy mózgu.|\n",
    "|metody łączone| Możliwość połączenia różnych metod badawczych np. fMRI i eyetracking|\n",
    "|nie tylko mózg| Możliwość śledzenia zmian funkcjonalnych w innych tkankach ciała.|\n"
   ]
  },
  {
   "cell_type": "markdown",
   "metadata": {},
   "source": [
    "| fMRI | Wady użytkowania |\n",
    "| --- | --- |\n",
    "| wysokie koszty | Koszty sprzętu, jego konserwacji, naprawy oraz jednostkowe koszty ponoszone przed każdym badaniem np. kontrast |\n",
    "| warunki badania | Istnieje lista warunków, które mogą wykluczyć badanego z badania oraz bardzo konkretne wytyczne postępowania, które mogą powodować trudność. |\n",
    "| umiejętności techniczne| Trzeba mieć umiejętności techniczne oraz analityczne na wysokim poziomie, aby poprawnie wykorzystywać sprzęt fMRI.|\n",
    "|ograniczenia czasowe| Trudności z powtarzaniem badania/ trudności w przeprowadzaniu badania pilotażowego.|\n",
    "| próba| Ścisłe wytyczne dotyczące doboru próby + trudności w badaniu niektórych populacji np. ASD czy osoby z klaustrofobią.|"
   ]
  },
  {
   "cell_type": "markdown",
   "metadata": {},
   "source": [
    "**4. Explain in your *own words* the term *reproducible research*.**\n",
    "Highly recomended video: [From interactive exploration to reproducible data science](https://www.youtube.com/watch?v=xOKPKiAhey4).\n"
   ]
  },
  {
   "cell_type": "markdown",
   "metadata": {},
   "source": [
    " W moim rozumieniu, _research reproduktywny_ odnosi się zapewnienia odpowiedniego wglądu w proces badawczy innym naukowcom, dzięki czemu są oni w stanie uzyskać odpowiednią wiedzę o merytorycznych podstawach badania - metodach analizy i jakości zebranych danych - dzięki czemu mogą dokonać reprodukcji wyników (wykorzystać te same zbiory danych oraz/ lub ten sam kod źródłowy) przy użyciu tych ***samych metod analizy***, dzięki czemu mogą podjąć próbę uzyskania tożsamych wyników i wniosków, co autorzy oryginalnej pracy. Jest to o tyle istotne, ponieważ pozwala na zminimalizowanie ryzyka wpływu błędów poznawczych i niedostatków oceny badacza na sam proces badawczy czy na intepretację uzyskanych wyników. "
   ]
  },
  {
   "cell_type": "markdown",
   "metadata": {},
   "source": [
    "**5. Make a *list* with good neuroimaging research practices that improve reproducibility of results.**"
   ]
  },
  {
   "cell_type": "markdown",
   "metadata": {},
   "source": [
    "1. Udostępnianie materiałów (w tym):\n",
    "  - udostępnianie baz danych,\n",
    "  - udostępnianie kodu źródłowego,\n",
    "  - zapewnianie oprogramowania/ sprzętu z którego korzystali badacze (jeśli to nowatorska metoda).\n",
    "2. Zapewnianie dostępu do literatury badawczej (a w szczególności):\n",
    "  - publikowanie raportów z badań pilotażowych,\n",
    "  - publikowanie badań ze sprzecznymi wynikami/ z brakiem udowodnionej hipotezy 1,\n",
    "  - pozwolenie na otwartą dyskusję nad planami badań.\n",
    "3. Unikanie \"nadużywania\" metod analizy, w tym:\n",
    "  - poprawne dobieranie próby (unikanie zakrzywiania wyników poprzez dobór \"pod ręką\"),\n",
    "  - brak dążenia do nadmiernej normalizacji/ czyszczenia wyników (w celu usunięcia przypadków odstających od rozkładu normalnego),\n",
    "  - unikanie \"hakowania\" p value,\n",
    "  - unikanie harkingu - czyli zakładania hipotezy już po uzyskaniu wyników, aby móc opublikować badanie z potwierdzoną hipotezą,\n",
    "  - dobór właściwych metod statystycznych,\n",
    "  - poprawne formuowanie wniosków; poprawna wizualizacja wyników."
   ]
  }
 ],
 "metadata": {
  "kernelspec": {
   "display_name": "Python 3",
   "language": "python",
   "name": "python3"
  },
  "language_info": {
   "codemirror_mode": {
    "name": "ipython",
    "version": 3
   },
   "file_extension": ".py",
   "mimetype": "text/x-python",
   "name": "python",
   "nbconvert_exporter": "python",
   "pygments_lexer": "ipython3",
   "version": "3.7.3"
  },
  "widgets": {
   "application/vnd.jupyter.widget-state+json": {
    "state": {},
    "version_major": 2,
    "version_minor": 0
   }
  }
 },
 "nbformat": 4,
 "nbformat_minor": 4
}
